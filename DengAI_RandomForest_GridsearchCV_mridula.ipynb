{
 "cells": [
  {
   "cell_type": "markdown",
   "metadata": {},
   "source": [
    "## GOAL: Predict the 'total_cases' label for each (city, year, weekofyear) in the test set."
   ]
  },
  {
   "cell_type": "code",
   "execution_count": 93,
   "metadata": {},
   "outputs": [],
   "source": [
    "import numpy as np\n",
    "import pandas as pd\n",
    "from sklearn.impute import SimpleImputer\n",
    "from sklearn.impute import KNNImputer\n",
    "# explicitly require this experimental feature\n",
    "from sklearn.experimental import enable_iterative_imputer  # noqa\n",
    "# now you can import normally from sklearn.impute\n",
    "from sklearn.impute import IterativeImputer"
   ]
  },
  {
   "cell_type": "code",
   "execution_count": 131,
   "metadata": {},
   "outputs": [],
   "source": [
    "#From blog - https://www.drivendata.co/blog/dengue-benchmark/\n",
    "\n",
    "def preprocess_data(data_path, labels_path=None):\n",
    "    # load data and set index to city, year, weekofyear\n",
    "    df = pd.read_csv(data_path, index_col=[0, 1, 2])\n",
    "    \n",
    "    # select features we want\n",
    "    features = ['reanalysis_specific_humidity_g_per_kg', \n",
    "                 'reanalysis_dew_point_temp_k', \n",
    "                 'station_avg_temp_c', \n",
    "                 'station_min_temp_c', \n",
    "#                 'total_cases_1WLag',\n",
    "#                 'total_cases_2WLag',\n",
    "#                 'Average_3WLag_Cases',\n",
    "#                 'expected_avg3wlagcasesbyweek',\n",
    "                 'ndvi_se',\n",
    "                 'reanalysis_tdtr_k'\n",
    "                  ]\n",
    "    df = df[features]\n",
    "    \n",
    "    # fill missing values = impute\n",
    "    \n",
    "    #forward fill\n",
    "    #df.fillna(method='ffill', inplace=True)\n",
    "\n",
    "    #simple impute with median\n",
    "    #missing_values should be set to np.nan, since pd.NA will be converted to np.nan\n",
    "    #simple_imputer = SimpleImputer(missing_values=np.nan, strategy='median')\n",
    "    #data_with_imputed_values = simple_imputer.fit_transform(df)\n",
    "    \n",
    "    #KNN imputer = K-nearest neighbor\n",
    "    #Each sample’s missing values are imputed using the mean value from n_neighbors nearest neighbors found in the training set.\n",
    "    #knn_imputer = KNNImputer(n_neighbors=2)\n",
    "    #data_with_imputed_values = knn_imputer.fit_transform(df)\n",
    "        \n",
    "    #A more sophisticated approach is to use the IterativeImputer class, \n",
    "    #which models each feature with missing values as a function of other features, \n",
    "    #and uses that estimate for imputation. \n",
    "    #It does so in an iterated round-robin fashion: at each step, a feature column is designated as output y \n",
    "    #and the other feature columns are treated as inputs X. A regressor is fit on (X, y) for known y. \n",
    "    #Then, the regressor is used to predict the missing values of y. \n",
    "    #This is done for each feature in an iterative fashion, and then is repeated for max_iter imputation rounds. \n",
    "    #The results of the final imputation round are returned.\n",
    "    \n",
    "    #Note This estimator is still experimental for now: \n",
    "    #default parameters or details of behaviour might change without any deprecation cycle\n",
    "    imp_imputer = IterativeImputer(max_iter=10, random_state=0)  \n",
    "    imp_imputer.fit(df)\n",
    "    IterativeImputer(random_state=0)\n",
    "    data_with_imputed_values = imp_imputer.transform(df)\n",
    "    \n",
    "    #Output of sklearn imputers in a numpy array. Convert it to pandas dataframe\n",
    "    idf = pd.DataFrame(data_with_imputed_values)\n",
    "    idf.columns=df.columns\n",
    "    idf.index=df.index\n",
    "    \n",
    "    # add labels to dataframe\n",
    "    if labels_path:\n",
    "        labels = pd.read_csv(labels_path, index_col=[0, 1, 2])\n",
    "        #df = df.join(labels)\n",
    "        idf = idf.join(labels)\n",
    "    \n",
    "    # separate san juan and iquitos\n",
    "    #sj = df.loc['sj']\n",
    "    #iq = df.loc['iq']\n",
    "    sj = idf.loc['sj']\n",
    "    iq = idf.loc['iq']    \n",
    "    \n",
    "    return sj, iq"
   ]
  },
  {
   "cell_type": "markdown",
   "metadata": {},
   "source": [
    "## NOTE: Various imputation methods have no impact on RMSE score for this data. No need to spend more time exploring imputation techniques for now."
   ]
  },
  {
   "cell_type": "code",
   "execution_count": 132,
   "metadata": {},
   "outputs": [],
   "source": [
    "sj_train, iq_train = preprocess_data(r\"C:\\Users\\FunTime\\Desktop\\DengAI_Competetion\\From_Rupa\\dengue_features_train_mod_4.csv\",\n",
    "                                    labels_path=\"C:\\\\Users\\\\FunTime\\\\Desktop\\\\DengAI_Competetion\\dengue_labels_train.csv\")"
   ]
  },
  {
   "cell_type": "code",
   "execution_count": 133,
   "metadata": {},
   "outputs": [
    {
     "data": {
      "text/html": [
       "<div>\n",
       "<style scoped>\n",
       "    .dataframe tbody tr th:only-of-type {\n",
       "        vertical-align: middle;\n",
       "    }\n",
       "\n",
       "    .dataframe tbody tr th {\n",
       "        vertical-align: top;\n",
       "    }\n",
       "\n",
       "    .dataframe thead th {\n",
       "        text-align: right;\n",
       "    }\n",
       "</style>\n",
       "<table border=\"1\" class=\"dataframe\">\n",
       "  <thead>\n",
       "    <tr style=\"text-align: right;\">\n",
       "      <th></th>\n",
       "      <th>reanalysis_specific_humidity_g_per_kg</th>\n",
       "      <th>reanalysis_dew_point_temp_k</th>\n",
       "      <th>station_avg_temp_c</th>\n",
       "      <th>station_min_temp_c</th>\n",
       "      <th>ndvi_se</th>\n",
       "      <th>reanalysis_tdtr_k</th>\n",
       "      <th>total_cases</th>\n",
       "    </tr>\n",
       "  </thead>\n",
       "  <tbody>\n",
       "    <tr>\n",
       "      <th>count</th>\n",
       "      <td>936.000000</td>\n",
       "      <td>936.000000</td>\n",
       "      <td>936.000000</td>\n",
       "      <td>936.000000</td>\n",
       "      <td>936.000000</td>\n",
       "      <td>936.000000</td>\n",
       "      <td>936.000000</td>\n",
       "    </tr>\n",
       "    <tr>\n",
       "      <th>mean</th>\n",
       "      <td>16.553614</td>\n",
       "      <td>295.110396</td>\n",
       "      <td>27.007603</td>\n",
       "      <td>22.597868</td>\n",
       "      <td>0.177707</td>\n",
       "      <td>2.529877</td>\n",
       "      <td>34.180556</td>\n",
       "    </tr>\n",
       "    <tr>\n",
       "      <th>std</th>\n",
       "      <td>1.555980</td>\n",
       "      <td>1.564936</td>\n",
       "      <td>1.410991</td>\n",
       "      <td>1.501888</td>\n",
       "      <td>0.056604</td>\n",
       "      <td>0.527946</td>\n",
       "      <td>51.381372</td>\n",
       "    </tr>\n",
       "    <tr>\n",
       "      <th>min</th>\n",
       "      <td>11.715714</td>\n",
       "      <td>289.642857</td>\n",
       "      <td>22.842857</td>\n",
       "      <td>17.800000</td>\n",
       "      <td>-0.015533</td>\n",
       "      <td>1.357143</td>\n",
       "      <td>0.000000</td>\n",
       "    </tr>\n",
       "    <tr>\n",
       "      <th>25%</th>\n",
       "      <td>15.248214</td>\n",
       "      <td>293.853214</td>\n",
       "      <td>25.842857</td>\n",
       "      <td>21.700000</td>\n",
       "      <td>0.140121</td>\n",
       "      <td>2.157143</td>\n",
       "      <td>9.000000</td>\n",
       "    </tr>\n",
       "    <tr>\n",
       "      <th>50%</th>\n",
       "      <td>16.832143</td>\n",
       "      <td>295.447143</td>\n",
       "      <td>27.214286</td>\n",
       "      <td>22.800000</td>\n",
       "      <td>0.177264</td>\n",
       "      <td>2.457143</td>\n",
       "      <td>19.000000</td>\n",
       "    </tr>\n",
       "    <tr>\n",
       "      <th>75%</th>\n",
       "      <td>17.854286</td>\n",
       "      <td>296.415714</td>\n",
       "      <td>28.175000</td>\n",
       "      <td>23.900000</td>\n",
       "      <td>0.211596</td>\n",
       "      <td>2.800000</td>\n",
       "      <td>37.000000</td>\n",
       "    </tr>\n",
       "    <tr>\n",
       "      <th>max</th>\n",
       "      <td>19.440000</td>\n",
       "      <td>297.795714</td>\n",
       "      <td>30.071429</td>\n",
       "      <td>25.600000</td>\n",
       "      <td>0.393129</td>\n",
       "      <td>5.314705</td>\n",
       "      <td>461.000000</td>\n",
       "    </tr>\n",
       "  </tbody>\n",
       "</table>\n",
       "</div>"
      ],
      "text/plain": [
       "       reanalysis_specific_humidity_g_per_kg  reanalysis_dew_point_temp_k  \\\n",
       "count                             936.000000                   936.000000   \n",
       "mean                               16.553614                   295.110396   \n",
       "std                                 1.555980                     1.564936   \n",
       "min                                11.715714                   289.642857   \n",
       "25%                                15.248214                   293.853214   \n",
       "50%                                16.832143                   295.447143   \n",
       "75%                                17.854286                   296.415714   \n",
       "max                                19.440000                   297.795714   \n",
       "\n",
       "       station_avg_temp_c  station_min_temp_c     ndvi_se  reanalysis_tdtr_k  \\\n",
       "count          936.000000          936.000000  936.000000         936.000000   \n",
       "mean            27.007603           22.597868    0.177707           2.529877   \n",
       "std              1.410991            1.501888    0.056604           0.527946   \n",
       "min             22.842857           17.800000   -0.015533           1.357143   \n",
       "25%             25.842857           21.700000    0.140121           2.157143   \n",
       "50%             27.214286           22.800000    0.177264           2.457143   \n",
       "75%             28.175000           23.900000    0.211596           2.800000   \n",
       "max             30.071429           25.600000    0.393129           5.314705   \n",
       "\n",
       "       total_cases  \n",
       "count   936.000000  \n",
       "mean     34.180556  \n",
       "std      51.381372  \n",
       "min       0.000000  \n",
       "25%       9.000000  \n",
       "50%      19.000000  \n",
       "75%      37.000000  \n",
       "max     461.000000  "
      ]
     },
     "execution_count": 133,
     "metadata": {},
     "output_type": "execute_result"
    }
   ],
   "source": [
    "sj_train.describe()"
   ]
  },
  {
   "cell_type": "code",
   "execution_count": 134,
   "metadata": {},
   "outputs": [
    {
     "data": {
      "text/html": [
       "<div>\n",
       "<style scoped>\n",
       "    .dataframe tbody tr th:only-of-type {\n",
       "        vertical-align: middle;\n",
       "    }\n",
       "\n",
       "    .dataframe tbody tr th {\n",
       "        vertical-align: top;\n",
       "    }\n",
       "\n",
       "    .dataframe thead th {\n",
       "        text-align: right;\n",
       "    }\n",
       "</style>\n",
       "<table border=\"1\" class=\"dataframe\">\n",
       "  <thead>\n",
       "    <tr style=\"text-align: right;\">\n",
       "      <th></th>\n",
       "      <th>reanalysis_specific_humidity_g_per_kg</th>\n",
       "      <th>reanalysis_dew_point_temp_k</th>\n",
       "      <th>station_avg_temp_c</th>\n",
       "      <th>station_min_temp_c</th>\n",
       "      <th>ndvi_se</th>\n",
       "      <th>reanalysis_tdtr_k</th>\n",
       "      <th>total_cases</th>\n",
       "    </tr>\n",
       "  </thead>\n",
       "  <tbody>\n",
       "    <tr>\n",
       "      <th>count</th>\n",
       "      <td>520.000000</td>\n",
       "      <td>520.000000</td>\n",
       "      <td>520.000000</td>\n",
       "      <td>520.000000</td>\n",
       "      <td>520.000000</td>\n",
       "      <td>520.000000</td>\n",
       "      <td>520.000000</td>\n",
       "    </tr>\n",
       "    <tr>\n",
       "      <th>mean</th>\n",
       "      <td>17.093412</td>\n",
       "      <td>295.491084</td>\n",
       "      <td>27.516117</td>\n",
       "      <td>21.212693</td>\n",
       "      <td>0.249883</td>\n",
       "      <td>9.173313</td>\n",
       "      <td>7.565385</td>\n",
       "    </tr>\n",
       "    <tr>\n",
       "      <th>std</th>\n",
       "      <td>1.440514</td>\n",
       "      <td>1.411922</td>\n",
       "      <td>0.931188</td>\n",
       "      <td>1.258203</td>\n",
       "      <td>0.077198</td>\n",
       "      <td>2.469252</td>\n",
       "      <td>10.765478</td>\n",
       "    </tr>\n",
       "    <tr>\n",
       "      <th>min</th>\n",
       "      <td>12.111429</td>\n",
       "      <td>290.088571</td>\n",
       "      <td>21.400000</td>\n",
       "      <td>14.700000</td>\n",
       "      <td>0.029880</td>\n",
       "      <td>3.714286</td>\n",
       "      <td>0.000000</td>\n",
       "    </tr>\n",
       "    <tr>\n",
       "      <th>25%</th>\n",
       "      <td>16.121429</td>\n",
       "      <td>294.596429</td>\n",
       "      <td>27.000000</td>\n",
       "      <td>20.600000</td>\n",
       "      <td>0.194748</td>\n",
       "      <td>7.353571</td>\n",
       "      <td>1.000000</td>\n",
       "    </tr>\n",
       "    <tr>\n",
       "      <th>50%</th>\n",
       "      <td>17.420714</td>\n",
       "      <td>295.831429</td>\n",
       "      <td>27.600000</td>\n",
       "      <td>21.400000</td>\n",
       "      <td>0.249593</td>\n",
       "      <td>8.942857</td>\n",
       "      <td>5.000000</td>\n",
       "    </tr>\n",
       "    <tr>\n",
       "      <th>75%</th>\n",
       "      <td>18.176786</td>\n",
       "      <td>296.544643</td>\n",
       "      <td>28.100000</td>\n",
       "      <td>22.000000</td>\n",
       "      <td>0.302129</td>\n",
       "      <td>11.003571</td>\n",
       "      <td>9.000000</td>\n",
       "    </tr>\n",
       "    <tr>\n",
       "      <th>max</th>\n",
       "      <td>20.461429</td>\n",
       "      <td>298.450000</td>\n",
       "      <td>30.800000</td>\n",
       "      <td>24.200000</td>\n",
       "      <td>0.538314</td>\n",
       "      <td>16.028571</td>\n",
       "      <td>116.000000</td>\n",
       "    </tr>\n",
       "  </tbody>\n",
       "</table>\n",
       "</div>"
      ],
      "text/plain": [
       "       reanalysis_specific_humidity_g_per_kg  reanalysis_dew_point_temp_k  \\\n",
       "count                             520.000000                   520.000000   \n",
       "mean                               17.093412                   295.491084   \n",
       "std                                 1.440514                     1.411922   \n",
       "min                                12.111429                   290.088571   \n",
       "25%                                16.121429                   294.596429   \n",
       "50%                                17.420714                   295.831429   \n",
       "75%                                18.176786                   296.544643   \n",
       "max                                20.461429                   298.450000   \n",
       "\n",
       "       station_avg_temp_c  station_min_temp_c     ndvi_se  reanalysis_tdtr_k  \\\n",
       "count          520.000000          520.000000  520.000000         520.000000   \n",
       "mean            27.516117           21.212693    0.249883           9.173313   \n",
       "std              0.931188            1.258203    0.077198           2.469252   \n",
       "min             21.400000           14.700000    0.029880           3.714286   \n",
       "25%             27.000000           20.600000    0.194748           7.353571   \n",
       "50%             27.600000           21.400000    0.249593           8.942857   \n",
       "75%             28.100000           22.000000    0.302129          11.003571   \n",
       "max             30.800000           24.200000    0.538314          16.028571   \n",
       "\n",
       "       total_cases  \n",
       "count   520.000000  \n",
       "mean      7.565385  \n",
       "std      10.765478  \n",
       "min       0.000000  \n",
       "25%       1.000000  \n",
       "50%       5.000000  \n",
       "75%       9.000000  \n",
       "max     116.000000  "
      ]
     },
     "execution_count": 134,
     "metadata": {},
     "output_type": "execute_result"
    }
   ],
   "source": [
    "iq_train.describe()"
   ]
  },
  {
   "cell_type": "markdown",
   "metadata": {},
   "source": [
    "## KNN Regressor\n",
    "#### Step 0  - Split the dataset into training and test datasets. \n",
    "#### Step 1 - Scale the dataset using minmaxscaler. \n",
    "#### Step 2 - Use KNeighborsClassifier classifier and report the score on the test dataset."
   ]
  },
  {
   "cell_type": "markdown",
   "metadata": {},
   "source": [
    "## \n",
    "## Step 0 - Split data into train & test"
   ]
  },
  {
   "cell_type": "code",
   "execution_count": 327,
   "metadata": {},
   "outputs": [
    {
     "name": "stdout",
     "output_type": "stream",
     "text": [
      "(748, 8)\n",
      "Index(['reanalysis_specific_humidity_g_per_kg', 'reanalysis_dew_point_temp_k',\n",
      "       'station_avg_temp_c', 'station_min_temp_c', 'ndvi_se',\n",
      "       'reanalysis_tdtr_k', 'total_cases', 'fitted'],\n",
      "      dtype='object')\n",
      "Index(['reanalysis_specific_humidity_g_per_kg', 'reanalysis_dew_point_temp_k',\n",
      "       'station_avg_temp_c', 'station_min_temp_c', 'ndvi_se',\n",
      "       'reanalysis_tdtr_k'],\n",
      "      dtype='object')\n",
      "(188, 8)\n",
      "Index(['reanalysis_specific_humidity_g_per_kg', 'reanalysis_dew_point_temp_k',\n",
      "       'station_avg_temp_c', 'station_min_temp_c', 'ndvi_se',\n",
      "       'reanalysis_tdtr_k', 'total_cases', 'fitted'],\n",
      "      dtype='object')\n",
      "Index(['reanalysis_specific_humidity_g_per_kg', 'reanalysis_dew_point_temp_k',\n",
      "       'station_avg_temp_c', 'station_min_temp_c', 'ndvi_se',\n",
      "       'reanalysis_tdtr_k'],\n",
      "      dtype='object')\n",
      "<class 'pandas.core.series.Series'>\n",
      "(748,)\n",
      "<class 'pandas.core.series.Series'>\n",
      "(188,)\n",
      "(416, 8)\n",
      "Index(['reanalysis_specific_humidity_g_per_kg', 'reanalysis_dew_point_temp_k',\n",
      "       'station_avg_temp_c', 'station_min_temp_c', 'ndvi_se',\n",
      "       'reanalysis_tdtr_k', 'total_cases', 'fitted'],\n",
      "      dtype='object')\n",
      "Index(['reanalysis_specific_humidity_g_per_kg', 'reanalysis_dew_point_temp_k',\n",
      "       'station_avg_temp_c', 'station_min_temp_c', 'ndvi_se',\n",
      "       'reanalysis_tdtr_k'],\n",
      "      dtype='object')\n",
      "(104, 8)\n",
      "Index(['reanalysis_specific_humidity_g_per_kg', 'reanalysis_dew_point_temp_k',\n",
      "       'station_avg_temp_c', 'station_min_temp_c', 'ndvi_se',\n",
      "       'reanalysis_tdtr_k', 'total_cases', 'fitted'],\n",
      "      dtype='object')\n",
      "Index(['reanalysis_specific_humidity_g_per_kg', 'reanalysis_dew_point_temp_k',\n",
      "       'station_avg_temp_c', 'station_min_temp_c', 'ndvi_se',\n",
      "       'reanalysis_tdtr_k'],\n",
      "      dtype='object')\n",
      "<class 'pandas.core.series.Series'>\n",
      "(416,)\n",
      "<class 'pandas.core.series.Series'>\n",
      "(104,)\n",
      "SJ Train shape, SJ Test shape (748, 6) (188, 6)\n",
      "IQ Train shape, IQ Test shape (416, 6) (104, 6)\n",
      "SJ Target shape, SJ Test shape (748,) (188,)\n",
      "IQ Target shape, IQ Test shape (416,) (104,)\n"
     ]
    },
    {
     "name": "stderr",
     "output_type": "stream",
     "text": [
      "C:\\Users\\FunTime\\anaconda3\\lib\\site-packages\\pandas\\core\\frame.py:4163: SettingWithCopyWarning: \n",
      "A value is trying to be set on a copy of a slice from a DataFrame\n",
      "\n",
      "See the caveats in the documentation: https://pandas.pydata.org/pandas-docs/stable/user_guide/indexing.html#returning-a-view-versus-a-copy\n",
      "  return super().drop(\n"
     ]
    }
   ],
   "source": [
    "from sklearn.model_selection import train_test_split\n",
    "\n",
    "labels = pd.read_csv(r\"C:\\\\Users\\\\FunTime\\\\Desktop\\\\DengAI_Competetion\\dengue_labels_train.csv\", index_col=[0, 1, 2])\n",
    "sj_labels = labels.loc['sj']\n",
    "iq_labels = labels.loc['iq'] \n",
    "    \n",
    "# Split the dataset in 80% (train), 20% (test) ratio\n",
    "sj_train_subtrain_X, sj_train_subtest_x, sj_target_subtrain_Y, sj_target_subtest_y = train_test_split(sj_train, sj_train.total_cases, test_size=0.2, random_state=0)\n",
    "iq_train_subtrain_X, iq_train_subtest_x, iq_target_subtrain_Y, iq_target_subtest_y = train_test_split(iq_train, iq_train.total_cases, test_size=0.2, random_state=0)\n",
    "\n",
    "#sj_train_subtrain_X, sj_train_subtest_x, sj_target_subtrain_Y, sj_target_subtest_y = train_test_split(sj_train, sj_labels, test_size=0.2, random_state=0)\n",
    "#iq_train_subtrain_X, iq_train_subtest_x, iq_target_subtrain_Y, iq_target_subtest_y = train_test_split(iq_train, iq_labels, test_size=0.2, random_state=0)\n",
    "\n",
    "#print(type(sj_train_subtrain_X))\n",
    "print(sj_train_subtrain_X.shape)\n",
    "print(sj_train_subtrain_X.columns)\n",
    "#print(sj_train_subtrain_X.index)\n",
    "sj_train_subtrain_X.drop(columns=['fitted', 'total_cases'], inplace=True)\n",
    "print(sj_train_subtrain_X.columns)\n",
    "\n",
    "#print(type(sj_train_subtest_x))\n",
    "print(sj_train_subtest_x.shape)\n",
    "print(sj_train_subtest_x.columns)\n",
    "#print(sj_train_subtest_x.index)\n",
    "sj_train_subtest_x.drop(columns=['fitted', 'total_cases'], inplace=True)\n",
    "print(sj_train_subtest_x.columns)\n",
    "\n",
    "print(type(sj_target_subtrain_Y))\n",
    "print(sj_target_subtrain_Y.shape)\n",
    "#print(sj_target_subtrain_Y.columns)\n",
    "\n",
    "print(type(sj_target_subtest_y))\n",
    "print(sj_target_subtest_y.shape)\n",
    "#print(sj_target_subtest_y.columns)\n",
    "\n",
    "#print(type(iq_train_subtrain_X))\n",
    "print(iq_train_subtrain_X.shape)\n",
    "print(iq_train_subtrain_X.columns)\n",
    "#print(iq_train_subtrain_X.index)\n",
    "iq_train_subtrain_X.drop(columns=['fitted', 'total_cases'], inplace=True)\n",
    "print(iq_train_subtrain_X.columns)\n",
    "\n",
    "#print(type(iq_train_subtest_x))\n",
    "print(iq_train_subtest_x.shape)\n",
    "print(iq_train_subtest_x.columns)\n",
    "#print(iq_train_subtest_x.index)\n",
    "iq_train_subtest_x.drop(columns=['fitted', 'total_cases'], inplace=True)\n",
    "print(iq_train_subtest_x.columns)\n",
    "\n",
    "print(type(iq_target_subtrain_Y))\n",
    "print(iq_target_subtrain_Y.shape)\n",
    "#print(iq_target_subtrain_Y.columns)\n",
    "\n",
    "print(type(iq_target_subtest_y))\n",
    "print(iq_target_subtest_y.shape)\n",
    "#print(iq_target_subtest_y.columns)\n",
    "\n",
    "print(\"SJ Train shape, SJ Test shape\", sj_train_subtrain_X.shape, sj_train_subtest_x.shape)\n",
    "print(\"IQ Train shape, IQ Test shape\", iq_train_subtrain_X.shape, iq_train_subtest_x.shape)\n",
    "\n",
    "print(\"SJ Target shape, SJ Test shape\", sj_target_subtrain_Y.shape, sj_target_subtest_y.shape)\n",
    "print(\"IQ Target shape, IQ Test shape\", iq_target_subtrain_Y.shape, iq_target_subtest_y.shape)"
   ]
  },
  {
   "cell_type": "code",
   "execution_count": 328,
   "metadata": {},
   "outputs": [],
   "source": [
    "from sklearn.model_selection import GridSearchCV\n",
    "from sklearn.neighbors import KNeighborsClassifier\n",
    "from sklearn.pipeline import Pipeline\n",
    "from sklearn.preprocessing import MinMaxScaler"
   ]
  },
  {
   "cell_type": "markdown",
   "metadata": {},
   "source": [
    "## Step 1 - Scale Features"
   ]
  },
  {
   "cell_type": "code",
   "execution_count": 329,
   "metadata": {},
   "outputs": [
    {
     "name": "stdout",
     "output_type": "stream",
     "text": [
      "MinMaxScaled Test score: 0.0213\n",
      "MinMaxScaled Test score: 0.1154\n"
     ]
    }
   ],
   "source": [
    "# Scaling of features\n",
    "#sj_train_subtrain_X, sj_train_subtest_x, sj_target_subtrain_Y, sj_target_subtest_y \n",
    "scaler = MinMaxScaler()\n",
    "scaler.fit(sj_train_subtrain_X)\n",
    "sj_train_subtrain_X_scaled = scaler.transform(sj_train_subtrain_X)\n",
    "clf =  KNeighborsClassifier(n_neighbors=3).fit(sj_train_subtrain_X_scaled, sj_target_subtrain_Y) \n",
    "\n",
    "sj_train_subtest_x_scaled = scaler.transform(sj_train_subtest_x)\n",
    "print(\"MinMaxScaled Test score: {:.4f}\".format(clf.score(sj_train_subtest_x_scaled, sj_target_subtest_y)))\n",
    "\n",
    "#iq_train_subtrain_X, iq_train_subtest_x, iq_target_subtrain_Y, iq_target_subtest_y \n",
    "scaler = MinMaxScaler()\n",
    "scaler.fit(iq_train_subtrain_X)\n",
    "iq_train_subtrain_X_scaled = scaler.transform(iq_train_subtrain_X)\n",
    "clf =  KNeighborsClassifier(n_neighbors=3).fit(iq_train_subtrain_X_scaled, iq_target_subtrain_Y) \n",
    "\n",
    "iq_train_subtest_x_scaled = scaler.transform(iq_train_subtest_x)\n",
    "print(\"MinMaxScaled Test score: {:.4f}\".format(clf.score(iq_train_subtest_x_scaled, iq_target_subtest_y)))"
   ]
  },
  {
   "cell_type": "markdown",
   "metadata": {},
   "source": [
    "## Step 2 - Repeat Step 1 using pipelines and report the score"
   ]
  },
  {
   "cell_type": "code",
   "execution_count": 330,
   "metadata": {},
   "outputs": [
    {
     "name": "stdout",
     "output_type": "stream",
     "text": [
      "Train score: 0.3249\n",
      "Test score: 0.0213\n",
      "Train score: 0.4303\n",
      "Test score: 0.1154\n"
     ]
    }
   ],
   "source": [
    "# Use pipeline\n",
    "from sklearn.pipeline import make_pipeline\n",
    "\n",
    "#sj_train_subtrain_X, sj_train_subtest_x, sj_target_subtrain_Y, sj_target_subtest_y \n",
    "pipe = make_pipeline(MinMaxScaler(), KNeighborsClassifier(n_neighbors=3))\n",
    "pipe.fit(sj_train_subtrain_X, sj_target_subtrain_Y)\n",
    "print(\"Train score: {:.4f}\".format(pipe.score(sj_train_subtrain_X, sj_target_subtrain_Y)))\n",
    "print(\"Test score: {:.4f}\".format(pipe.score(sj_train_subtest_x, sj_target_subtest_y)))\n",
    "\n",
    "#iq_train_subtrain_X, iq_train_subtest_x, iq_target_subtrain_Y, iq_target_subtest_y \n",
    "pipe = make_pipeline(MinMaxScaler(), KNeighborsClassifier(n_neighbors=3))\n",
    "pipe.fit(iq_train_subtrain_X, iq_target_subtrain_Y)\n",
    "print(\"Train score: {:.4f}\".format(pipe.score(iq_train_subtrain_X, iq_target_subtrain_Y)))\n",
    "print(\"Test score: {:.4f}\".format(pipe.score(iq_train_subtest_x, iq_target_subtest_y)))"
   ]
  },
  {
   "cell_type": "markdown",
   "metadata": {},
   "source": [
    "## Step 3 - Use the pipeline object from Step 2 and make a grid search on parameter of number of neighbor"
   ]
  },
  {
   "cell_type": "code",
   "execution_count": 331,
   "metadata": {},
   "outputs": [
    {
     "name": "stderr",
     "output_type": "stream",
     "text": [
      "C:\\Users\\FunTime\\anaconda3\\lib\\site-packages\\sklearn\\model_selection\\_split.py:670: UserWarning: The least populated class in y has only 1 members, which is less than n_splits=10.\n",
      "  warnings.warn((\"The least populated class in y has only %d\"\n"
     ]
    },
    {
     "name": "stdout",
     "output_type": "stream",
     "text": [
      "Best mean cross-validation score: 0.031\n",
      "Best parameters: {'kneighborsclassifier__n_neighbors': 19}\n",
      "Test-set score: 0.053\n"
     ]
    },
    {
     "name": "stderr",
     "output_type": "stream",
     "text": [
      "C:\\Users\\FunTime\\anaconda3\\lib\\site-packages\\sklearn\\model_selection\\_split.py:670: UserWarning: The least populated class in y has only 1 members, which is less than n_splits=10.\n",
      "  warnings.warn((\"The least populated class in y has only %d\"\n"
     ]
    },
    {
     "name": "stdout",
     "output_type": "stream",
     "text": [
      "Best mean cross-validation score: 0.214\n",
      "Best parameters: {'kneighborsclassifier__n_neighbors': 29}\n",
      "Test-set score: 0.135\n"
     ]
    }
   ],
   "source": [
    "from sklearn.model_selection import GridSearchCV\n",
    "\n",
    "knn_pipe = make_pipeline(MinMaxScaler(), KNeighborsClassifier())\n",
    "from sklearn.model_selection import GridSearchCV\n",
    "import numpy as np\n",
    "\n",
    "#sj_train_subtrain_X, sj_train_subtest_x, sj_target_subtrain_Y, sj_target_subtest_y \n",
    "param_grid = {'kneighborsclassifier__n_neighbors':  np.arange(1, 30, 2)}\n",
    "grid = GridSearchCV(knn_pipe, param_grid=param_grid, cv=10,return_train_score=True)\n",
    "grid.fit(sj_train_subtrain_X, sj_target_subtrain_Y)\n",
    "print(\"Best mean cross-validation score: {:.3f}\".format(grid.best_score_))\n",
    "print(\"Best parameters: {}\".format(grid.best_params_))\n",
    "\n",
    "print(\"Test-set score: {:.3f}\".format(grid.score(sj_train_subtest_x, sj_target_subtest_y)))\n",
    "\n",
    "#iq_train_subtrain_X, iq_train_subtest_x, iq_target_subtrain_Y, iq_target_subtest_y \n",
    "param_grid = {'kneighborsclassifier__n_neighbors':  np.arange(1, 30, 2)}\n",
    "grid = GridSearchCV(knn_pipe, param_grid=param_grid, cv=10,return_train_score=True)\n",
    "grid.fit(iq_train_subtrain_X, iq_target_subtrain_Y)\n",
    "print(\"Best mean cross-validation score: {:.3f}\".format(grid.best_score_))\n",
    "print(\"Best parameters: {}\".format(grid.best_params_))\n",
    "\n",
    "print(\"Test-set score: {:.3f}\".format(grid.score(iq_train_subtest_x, iq_target_subtest_y)))"
   ]
  },
  {
   "cell_type": "code",
   "execution_count": 332,
   "metadata": {},
   "outputs": [],
   "source": [
    "from sklearn.neighbors import KNeighborsRegressor"
   ]
  },
  {
   "cell_type": "code",
   "execution_count": 333,
   "metadata": {},
   "outputs": [
    {
     "name": "stdout",
     "output_type": "stream",
     "text": [
      "(748, 6) (188, 6) (748,) (188,)\n",
      "[14.36842105 40.15789474 35.05263158 25.         65.68421053 49.15789474\n",
      " 27.21052632 37.05263158 21.52631579 19.42105263 42.47368421 27.\n",
      " 38.63157895 39.15789474 13.10526316 33.63157895 34.57894737 17.21052632\n",
      " 19.26315789 59.26315789 28.42105263 27.         28.31578947 52.68421053\n",
      " 29.21052632 19.         28.36842105 54.26315789 46.89473684 38.63157895\n",
      " 18.84210526 26.42105263 57.94736842 70.21052632 21.89473684 52.84210526\n",
      " 11.05263158 16.73684211 56.47368421 28.31578947 39.15789474 18.42105263\n",
      " 27.94736842 26.63157895 22.78947368 25.15789474 53.         41.15789474\n",
      " 21.26315789 34.42105263 15.47368421 33.31578947 38.68421053 27.10526316\n",
      " 43.         21.36842105 34.89473684 18.21052632 37.31578947 15.47368421\n",
      " 15.21052632 30.89473684 23.36842105 39.10526316 35.63157895 24.78947368\n",
      " 20.21052632 31.15789474 52.42105263 18.10526316 43.94736842 38.94736842\n",
      " 37.21052632 47.47368421 12.63157895 50.89473684 18.10526316 26.73684211\n",
      " 20.15789474 26.47368421 39.21052632 34.26315789 52.36842105 22.21052632\n",
      " 27.89473684 18.57894737 27.21052632 24.42105263 17.10526316 34.73684211\n",
      " 56.63157895 18.31578947 53.78947368 15.26315789 32.         14.73684211\n",
      " 20.10526316 12.52631579 34.68421053 30.26315789 31.63157895 33.15789474\n",
      " 30.21052632 50.73684211 30.63157895 53.57894737 87.26315789 37.94736842\n",
      " 29.94736842 20.68421053 20.68421053 18.26315789 21.47368421 44.36842105\n",
      " 16.78947368 24.42105263 46.57894737 30.21052632 17.         28.57894737\n",
      " 34.36842105 16.47368421 48.94736842 40.52631579 21.31578947 33.21052632\n",
      " 33.89473684 31.10526316 45.47368421 34.68421053 26.31578947 37.94736842\n",
      " 60.         18.         18.36842105 28.21052632 29.26315789 18.47368421\n",
      " 19.78947368 19.05263158 14.63157895 76.05263158 22.47368421 43.89473684\n",
      " 74.78947368 17.47368421 18.63157895 40.10526316 51.68421053 20.\n",
      " 41.21052632 24.63157895 32.63157895 14.63157895 23.89473684 59.31578947\n",
      " 15.68421053 18.89473684 45.63157895 14.57894737 23.84210526 30.10526316\n",
      " 26.05263158 15.10526316 72.15789474 31.31578947 17.84210526 15.05263158\n",
      " 28.57894737 14.73684211 49.73684211 29.52631579 33.36842105 40.73684211\n",
      " 55.42105263 41.52631579 89.26315789 29.05263158 36.10526316 54.26315789\n",
      " 15.         27.36842105 18.36842105 18.         15.94736842 28.42105263\n",
      " 34.84210526 40.31578947]\n",
      "(188,)\n",
      "(416, 6) (104, 6) (416,) (104,)\n",
      "[ 4.37931034  5.4137931   6.79310345  9.4137931   3.55172414  3.93103448\n",
      "  6.55172414  3.20689655 11.68965517 10.5862069  11.93103448 10.34482759\n",
      "  4.34482759 10.10344828  9.4137931  10.89655172 10.17241379 10.13793103\n",
      "  5.44827586 11.          4.93103448 10.06896552  4.27586207 11.\n",
      "  8.68965517  6.20689655 11.24137931  6.65517241 11.75862069  3.55172414\n",
      "  5.89655172  3.75862069  3.34482759  6.82758621  9.03448276  3.44827586\n",
      "  2.55172414  8.5862069   9.27586207  6.82758621  9.82758621  8.65517241\n",
      " 10.17241379 10.68965517  3.20689655 12.51724138  3.82758621 10.89655172\n",
      "  3.65517241  8.13793103  7.44827586  3.34482759  7.75862069  7.37931034\n",
      "  5.75862069  5.72413793 11.82758621  3.4137931   7.48275862  7.20689655\n",
      "  5.24137931 10.06896552 12.06896552 11.24137931  7.68965517 10.75862069\n",
      "  4.          3.82758621 12.         10.5862069  10.17241379  6.17241379\n",
      "  4.68965517  6.06896552  7.20689655  7.79310345  8.72413793  4.96551724\n",
      "  6.48275862 11.27586207 10.82758621  6.37931034  7.62068966  8.65517241\n",
      " 10.93103448  9.82758621  2.89655172  9.93103448  8.55172414  8.24137931\n",
      "  9.06896552  8.27586207  7.89655172  8.5862069   2.96551724 11.\n",
      "  6.03448276  5.89655172  4.89655172  9.03448276  6.06896552  3.10344828\n",
      "  5.65517241  6.03448276]\n",
      "(104,)\n"
     ]
    }
   ],
   "source": [
    "sj_knn_reg = KNeighborsRegressor(n_neighbors=19)\n",
    "print(sj_train_subtrain_X.shape, sj_train_subtest_x.shape, sj_target_subtrain_Y.shape, sj_target_subtest_y.shape)\n",
    "sj_reg = sj_knn_reg.fit(sj_train_subtrain_X, sj_target_subtrain_Y)\n",
    "#sj_reg = sj_knn_reg.fit(sj_train_subtrain_X, sj_target_subtest_y)\n",
    "#sj_reg = sj_knn_reg.fit(sj_train_subtrain_X, sj_train_subtest_x)\n",
    "                        \n",
    "#sj_reg_score = sj_reg.score(sj_train_subtrain_X, sj_target_subtrain_Y) \n",
    "#print(sj_reg_score)\n",
    "#print(type(sj_train_subtest_x))\n",
    "#print(sj_train_subtest_x.columns)\n",
    "sj_target_predict = sj_reg.predict(sj_train_subtest_x)\n",
    "print(sj_target_predict)\n",
    "print(sj_target_predict.shape)\n",
    "#print(sj_target_predict.columns)\n",
    "\n",
    "iq_knn_reg = KNeighborsRegressor(n_neighbors=29)\n",
    "print(iq_train_subtrain_X.shape, iq_train_subtest_x.shape, iq_target_subtrain_Y.shape, iq_target_subtest_y.shape)\n",
    "iq_reg = iq_knn_reg.fit(iq_train_subtrain_X, iq_target_subtrain_Y)\n",
    "#iq_reg = iq_knn_reg.fit(iq_train_subtrain_X, iq_target_subtest_y)\n",
    "#iq_reg = iq_knn_reg.fit(iq_train_subtrain_X, iq_train_subtest_x)\n",
    "\n",
    "#iq_reg_score = iq_reg.score(iq_train_subtrain_X, iq_target_subtrain_Y) \n",
    "#print(iq_reg_score)\n",
    "iq_target_predict = iq_reg.predict(iq_train_subtest_x)\n",
    "print(iq_target_predict)\n",
    "print(iq_target_predict.shape)\n",
    "#print(iq_target_predict.columns)\n"
   ]
  },
  {
   "cell_type": "code",
   "execution_count": 334,
   "metadata": {},
   "outputs": [
    {
     "data": {
      "text/plain": [
       "<matplotlib.legend.Legend at 0x1d4b9848640>"
      ]
     },
     "execution_count": 334,
     "metadata": {},
     "output_type": "execute_result"
    },
    {
     "data": {
      "image/png": "[encoded data removed]",
      "text/plain": [
       "<Figure size 432x288 with 2 Axes>"
      ]
     },
     "metadata": {
      "needs_background": "light"
     },
     "output_type": "display_data"
    }
   ],
   "source": [
    "%matplotlib inline\n",
    "from matplotlib import pyplot as plt\n",
    "\n",
    "figs, axes = plt.subplots(nrows=2, ncols=1)\n",
    "\n",
    "# plot sj\n",
    "sj_predict_srs = pd.DataFrame(sj_target_predict)\n",
    "sj_predict_srs.plot(ax=axes[0], label=\"Predictions\")\n",
    "sj_train.total_cases.plot(ax=axes[0], label=\"Actual\")\n",
    "\n",
    "# plot iq\n",
    "iq_predict_srs = pd.DataFrame(iq_target_predict)\n",
    "iq_predict_srs.plot(ax=axes[1], label=\"Predictions\")\n",
    "iq_train.total_cases.plot(ax=axes[1], label=\"Actual\")\n",
    "\n",
    "plt.suptitle(\"Dengue Predicted Cases vs. Actual Cases\")\n",
    "plt.legend()\n"
   ]
  },
  {
   "cell_type": "code",
   "execution_count": 335,
   "metadata": {},
   "outputs": [
    {
     "name": "stdout",
     "output_type": "stream",
     "text": [
      "54.34061436260287\n",
      "14.738024111322936\n"
     ]
    }
   ],
   "source": [
    "from sklearn.metrics import mean_squared_error\n",
    "from math import sqrt\n",
    "\n",
    "sj_mse = mean_squared_error(sj_target_subtest_y, sj_target_predict)\n",
    "sj_rmse = sqrt(sj_mse)\n",
    "print(sj_rmse)\n",
    "\n",
    "iq_mse = mean_squared_error(iq_target_subtest_y, iq_target_predict)\n",
    "iq_rmse = sqrt(iq_mse)\n",
    "print(iq_rmse)"
   ]
  },
  {
   "cell_type": "code",
   "execution_count": 336,
   "metadata": {},
   "outputs": [
    {
     "name": "stdout",
     "output_type": "stream",
     "text": [
      "27.09182530795072\n",
      "7.024867374005306\n"
     ]
    }
   ],
   "source": [
    "from sklearn.metrics import mean_absolute_error\n",
    "#print(\"Mean Absolute Error:\")\n",
    "print(mean_absolute_error(sj_target_subtest_y, sj_target_predict))\n",
    "print(mean_absolute_error(iq_target_subtest_y, iq_target_predict))"
   ]
  },
  {
   "cell_type": "code",
   "execution_count": 339,
   "metadata": {},
   "outputs": [
    {
     "name": "stdout",
     "output_type": "stream",
     "text": [
      "(260, 6)\n",
      "Index(['reanalysis_specific_humidity_g_per_kg', 'reanalysis_dew_point_temp_k',\n",
      "       'station_avg_temp_c', 'station_min_temp_c', 'ndvi_se',\n",
      "       'reanalysis_tdtr_k'],\n",
      "      dtype='object')\n",
      "(156, 6)\n",
      "Index(['reanalysis_specific_humidity_g_per_kg', 'reanalysis_dew_point_temp_k',\n",
      "       'station_avg_temp_c', 'station_min_temp_c', 'ndvi_se',\n",
      "       'reanalysis_tdtr_k'],\n",
      "      dtype='object')\n"
     ]
    }
   ],
   "source": [
    "sj_test, iq_test = preprocess_data(r\"C:\\Users\\FunTime\\Desktop\\DengAI_Competetion\\dengue_features_test.csv\")\n",
    "\n",
    "print(sj_test.shape)\n",
    "print(sj_test.columns)\n",
    "sj_predictions = sj_reg.predict(sj_test).astype(int)\n",
    "\n",
    "print(iq_test.shape)\n",
    "print(iq_test.columns)\n",
    "iq_predictions = iq_reg.predict(iq_test).astype(int)\n",
    "\n",
    "submission = pd.read_csv(r\"C:\\Users\\FunTime\\Desktop\\DengAI_Competetion\\submission_format.csv\",\n",
    "                         index_col=[0, 1, 2])\n",
    "\n",
    "submission.total_cases = np.concatenate([sj_predictions, iq_predictions])\n",
    "submission.to_csv(r\"C:\\Users\\FunTime\\Desktop\\DengAI_Competetion\\benchmark4.csv\")"
   ]
  },
  {
   "cell_type": "code",
   "execution_count": null,
   "metadata": {},
   "outputs": [],
   "source": []
  }
 ],
 "metadata": {
  "kernelspec": {
   "display_name": "Python 3",
   "language": "python",
   "name": "python3"
  },
  "language_info": {
   "codemirror_mode": {
    "name": "ipython",
    "version": 3
   },
   "file_extension": ".py",
   "mimetype": "text/x-python",
   "name": "python",
   "nbconvert_exporter": "python",
   "pygments_lexer": "ipython3",
   "version": "3.8.5"
  }
 },
 "nbformat": 4,
 "nbformat_minor": 4
}
